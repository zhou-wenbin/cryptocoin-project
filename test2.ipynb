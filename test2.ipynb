{
 "cells": [
  {
   "cell_type": "code",
   "execution_count": 25,
   "metadata": {},
   "outputs": [],
   "source": [
    "import pandas as pd\n",
    "import matplotlib.pyplot as plt\n",
    "import numpy as np \n",
    "import math\n",
    "from sklearn.preprocessing import MinMaxScaler\n",
    "from sklearn.metrics import mean_squared_error\n",
    "from keras.models import Sequential\n",
    "from keras.layers import Dense, Activation, Dropout\n",
    "from keras.layers import LSTM"
   ]
  },
  {
   "cell_type": "code",
   "execution_count": 43,
   "metadata": {},
   "outputs": [],
   "source": [
    "# Crate 1D Data into Time-Series\n",
    "def new_dataset(dataset, step_size):\n",
    "    data_X, data_Y = [], []\n",
    "    for i in range(len(dataset)-step_size-1):\n",
    "        a = dataset[i:(i+step_size), 0]\n",
    "        data_X.append(a)\n",
    "        data_Y.append(dataset[i + step_size, 0])\n",
    "    return np.array(data_X), np.array(data_Y)\n",
    "\n",
    "#Load Dataset\n",
    "df = pd.read_csv(\"/Users/zhouwenbin/Documents/crypto/bitcoin-historical-data/bitstampUSD_1-min_data_2012-01-01_to_2020-04-22.csv\")\n",
    "df = df.rename(columns={\"Timestamp\":\"date\"})\n",
    "df[\"date\"] = pd.to_datetime(df[\"date\"],unit=\"s\")\n",
    "\n",
    "#get rid of the null data\n",
    "df = df.dropna()\n",
    "\n",
    "#select time period, in this example we selected half year data\n",
    "df=df[(df['date'] >='2019-05-01 00:00:00') & (df['date'] <= '2019-12-01 23:59:00')]\n"
   ]
  },
  {
   "cell_type": "code",
   "execution_count": 44,
   "metadata": {},
   "outputs": [],
   "source": [
    "df = df.reindex(index= df.index[::-1])#reverse order of date"
   ]
  },
  {
   "cell_type": "code",
   "execution_count": 45,
   "metadata": {},
   "outputs": [],
   "source": [
    "zaman = np.arange(1, len(df) + 1, 1)\n",
    "price = df[\"Weighted_Price\"]"
   ]
  },
  {
   "cell_type": "code",
   "execution_count": 46,
   "metadata": {},
   "outputs": [],
   "source": [
    "price = np.reshape(price.values, (len(price),1))\n",
    "scaler = MinMaxScaler(feature_range=(0,1))\n",
    "price = scaler.fit_transform(price)"
   ]
  },
  {
   "cell_type": "code",
   "execution_count": 47,
   "metadata": {},
   "outputs": [],
   "source": [
    "train_price = int(len(price)*0.56)\n",
    "test_price = len(price) - train_price\n",
    "train_price, test_price = price[0:train_price,:], price[train_price:len(price),:]"
   ]
  },
  {
   "cell_type": "code",
   "execution_count": 48,
   "metadata": {},
   "outputs": [],
   "source": [
    "trainX, trainY = new_dataset(train_price,1)\n",
    "testX, testY = new_dataset(test_price,1)\n",
    "\n",
    "# Reshape dataset for LSTM in 3D Dimension\n",
    "trainX = np.reshape(trainX, (trainX.shape[0],1,trainX.shape[1]))\n",
    "testX = np.reshape(testX, (testX.shape[0],1,testX.shape[1]))\n",
    "step_size = 1"
   ]
  },
  {
   "cell_type": "code",
   "execution_count": 85,
   "metadata": {},
   "outputs": [
    {
     "data": {
      "text/plain": [
       "7404.599514"
      ]
     },
     "execution_count": 85,
     "metadata": {},
     "output_type": "execute_result"
    }
   ],
   "source": [
    "# trainX[0]\n",
    "trainY[0,0]"
   ]
  },
  {
   "cell_type": "code",
   "execution_count": 87,
   "metadata": {},
   "outputs": [
    {
     "data": {
      "text/plain": [
       "array([0.25012228])"
      ]
     },
     "execution_count": 87,
     "metadata": {},
     "output_type": "execute_result"
    }
   ],
   "source": [
    "trainX[0,0]"
   ]
  },
  {
   "cell_type": "code",
   "execution_count": 49,
   "metadata": {},
   "outputs": [],
   "source": [
    "# LSTM Model is created\n",
    "model = Sequential()\n",
    "model.add(LSTM(128, input_shape=(1, step_size)))\n",
    "model.add(Dropout(0.1))\n",
    "# model.add(LSTM(64))\n",
    "# model.add(Dropout(0.1))\n",
    "model.add(Dense(1))\n",
    "model.add(Activation('linear'))\n",
    "model.compile(loss='mean_squared_error', optimizer='adam')"
   ]
  },
  {
   "cell_type": "code",
   "execution_count": 50,
   "metadata": {},
   "outputs": [
    {
     "name": "stdout",
     "output_type": "stream",
     "text": [
      "Epoch 1/2\n",
      " - 17s - loss: 0.0011\n",
      "Epoch 2/2\n",
      " - 17s - loss: 4.4421e-05\n"
     ]
    },
    {
     "data": {
      "text/plain": [
       "<keras.callbacks.callbacks.History at 0x1a316ece10>"
      ]
     },
     "execution_count": 50,
     "metadata": {},
     "output_type": "execute_result"
    }
   ],
   "source": [
    "#train model\n",
    "#Increase epochs to 10 will reduce loss, however  5 is already in good performance\n",
    "model.fit(trainX, trainY, epochs=2, batch_size=25, verbose=2)"
   ]
  },
  {
   "cell_type": "code",
   "execution_count": 51,
   "metadata": {},
   "outputs": [
    {
     "name": "stdout",
     "output_type": "stream",
     "text": [
      "Train RMSE: 14.45\n",
      "Test RMSE: 17.20\n"
     ]
    }
   ],
   "source": [
    "trainPredict = model.predict(trainX)\n",
    "testPredict = model.predict(testX)\n",
    "\n",
    "# DE-Normalizing for plotting \n",
    "trainPredict = scaler.inverse_transform(trainPredict)\n",
    "trainY = scaler.inverse_transform([trainY])\n",
    "testPredict = scaler.inverse_transform(testPredict)\n",
    "testY = scaler.inverse_transform([testY])\n",
    "\n",
    "# Performance Measure RMSE is calculated for predicted train dataset\n",
    "trainScore = math.sqrt(mean_squared_error(trainY[0], trainPredict[:,0]))\n",
    "print(\"Train RMSE: %.2f\" % (trainScore))\n",
    "\n",
    "# Performance Measure RMSE is calculated for predicted test dataset\n",
    "testScore = math.sqrt(mean_squared_error(testY[0], testPredict[:,0]))\n",
    "print(\"Test RMSE: %.2f\" % (testScore))\n",
    "\n",
    "# Converted predicted train dataset for plotting\n",
    "trainPredictPlot = np.empty_like(price)\n",
    "trainPredictPlot[:,:] = np.nan\n",
    "trainPredictPlot[step_size:len(trainPredict)+step_size,:] = trainPredict\n",
    "\n",
    "# Converted predicted test dataset for plotting\n",
    "testPredictPlot = np.empty_like(price)\n",
    "testPredictPlot[:,:] = np.nan\n",
    "testPredictPlot[len(trainPredict)+(step_size*2)+1:len(price)-1,:] = testPredict\n",
    "\n",
    "\n",
    "# Finally predicted values are visualized\n"
   ]
  },
  {
   "cell_type": "code",
   "execution_count": 52,
   "metadata": {},
   "outputs": [],
   "source": [
    "price = scaler.inverse_transform(price)"
   ]
  },
  {
   "cell_type": "code",
   "execution_count": 71,
   "metadata": {},
   "outputs": [
    {
     "data": {
      "image/png": "[encoded data removed]",
      "text/plain": [
       "<Figure size 432x288 with 1 Axes>"
      ]
     },
     "metadata": {
      "needs_background": "light"
     },
     "output_type": "display_data"
    }
   ],
   "source": [
    "\n",
    "plt.plot(price, 'b', label='Orginal Dataset')\n",
    "# plt.plot(trainPredictPlot, 'r', label='Training Set')\n",
    "plt.plot(testPredictPlot, 'r', label='Predicted price/test set')\n",
    "plt.title(\"Minutely Bitcoin Predicted Prices\")\n",
    "plt.xlim(299800, 300000)\n",
    "plt.ylim(5625,5780)\n",
    "plt.xlabel('Minutely Time', fontsize=12)\n",
    "plt.ylabel('Avg Price', fontsize=12)\n",
    "plt.legend(loc='upper right')\n",
    "plt.show()"
   ]
  },
  {
   "cell_type": "code",
   "execution_count": null,
   "metadata": {},
   "outputs": [],
   "source": []
  },
  {
   "cell_type": "code",
   "execution_count": null,
   "metadata": {},
   "outputs": [],
   "source": []
  },
  {
   "cell_type": "code",
   "execution_count": null,
   "metadata": {},
   "outputs": [],
   "source": []
  },
  {
   "cell_type": "code",
   "execution_count": null,
   "metadata": {},
   "outputs": [],
   "source": []
  }
 ],
 "metadata": {
  "kernelspec": {
   "display_name": "Python 3",
   "language": "python",
   "name": "python3"
  },
  "language_info": {
   "codemirror_mode": {
    "name": "ipython",
    "version": 3
   },
   "file_extension": ".py",
   "mimetype": "text/x-python",
   "name": "python",
   "nbconvert_exporter": "python",
   "pygments_lexer": "ipython3",
   "version": "3.6.10"
  }
 },
 "nbformat": 4,
 "nbformat_minor": 4
}
