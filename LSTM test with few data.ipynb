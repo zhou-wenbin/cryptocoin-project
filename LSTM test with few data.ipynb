{
 "cells": [
  {
   "cell_type": "code",
   "execution_count": 2,
   "metadata": {},
   "outputs": [],
   "source": [
    "import pandas as pd"
   ]
  },
  {
   "cell_type": "code",
   "execution_count": 3,
   "metadata": {},
   "outputs": [],
   "source": [
    "#Load Dataset\n",
    "df=pd.read_csv('/Users/zhouwenbin/Documents/crypto/bitcoin-historical-data/bitstampUSD_1-min_data_2012-01-01_to_2020-04-22.csv') \n"
   ]
  },
  {
   "cell_type": "code",
   "execution_count": 50,
   "metadata": {},
   "outputs": [
    {
     "data": {
      "text/html": [
       "<div>\n",
       "<style scoped>\n",
       "    .dataframe tbody tr th:only-of-type {\n",
       "        vertical-align: middle;\n",
       "    }\n",
       "\n",
       "    .dataframe tbody tr th {\n",
       "        vertical-align: top;\n",
       "    }\n",
       "\n",
       "    .dataframe thead th {\n",
       "        text-align: right;\n",
       "    }\n",
       "</style>\n",
       "<table border=\"1\" class=\"dataframe\">\n",
       "  <thead>\n",
       "    <tr style=\"text-align: right;\">\n",
       "      <th></th>\n",
       "      <th>date</th>\n",
       "      <th>Open</th>\n",
       "      <th>High</th>\n",
       "      <th>Low</th>\n",
       "      <th>Close</th>\n",
       "      <th>Volume_(BTC)</th>\n",
       "      <th>Volume_(Currency)</th>\n",
       "      <th>Weighted_Price</th>\n",
       "    </tr>\n",
       "  </thead>\n",
       "  <tbody>\n",
       "    <tr>\n",
       "      <th>0</th>\n",
       "      <td>2011-12-31 07:52:00</td>\n",
       "      <td>4.39</td>\n",
       "      <td>4.39</td>\n",
       "      <td>4.39</td>\n",
       "      <td>4.39</td>\n",
       "      <td>0.455581</td>\n",
       "      <td>2.0</td>\n",
       "      <td>4.39</td>\n",
       "    </tr>\n",
       "    <tr>\n",
       "      <th>1</th>\n",
       "      <td>2011-12-31 07:53:00</td>\n",
       "      <td>NaN</td>\n",
       "      <td>NaN</td>\n",
       "      <td>NaN</td>\n",
       "      <td>NaN</td>\n",
       "      <td>NaN</td>\n",
       "      <td>NaN</td>\n",
       "      <td>NaN</td>\n",
       "    </tr>\n",
       "    <tr>\n",
       "      <th>2</th>\n",
       "      <td>2011-12-31 07:54:00</td>\n",
       "      <td>NaN</td>\n",
       "      <td>NaN</td>\n",
       "      <td>NaN</td>\n",
       "      <td>NaN</td>\n",
       "      <td>NaN</td>\n",
       "      <td>NaN</td>\n",
       "      <td>NaN</td>\n",
       "    </tr>\n",
       "    <tr>\n",
       "      <th>3</th>\n",
       "      <td>2011-12-31 07:55:00</td>\n",
       "      <td>NaN</td>\n",
       "      <td>NaN</td>\n",
       "      <td>NaN</td>\n",
       "      <td>NaN</td>\n",
       "      <td>NaN</td>\n",
       "      <td>NaN</td>\n",
       "      <td>NaN</td>\n",
       "    </tr>\n",
       "    <tr>\n",
       "      <th>4</th>\n",
       "      <td>2011-12-31 07:56:00</td>\n",
       "      <td>NaN</td>\n",
       "      <td>NaN</td>\n",
       "      <td>NaN</td>\n",
       "      <td>NaN</td>\n",
       "      <td>NaN</td>\n",
       "      <td>NaN</td>\n",
       "      <td>NaN</td>\n",
       "    </tr>\n",
       "  </tbody>\n",
       "</table>\n",
       "</div>"
      ],
      "text/plain": [
       "                 date  Open  High   Low  Close  Volume_(BTC)  \\\n",
       "0 2011-12-31 07:52:00  4.39  4.39  4.39   4.39      0.455581   \n",
       "1 2011-12-31 07:53:00   NaN   NaN   NaN    NaN           NaN   \n",
       "2 2011-12-31 07:54:00   NaN   NaN   NaN    NaN           NaN   \n",
       "3 2011-12-31 07:55:00   NaN   NaN   NaN    NaN           NaN   \n",
       "4 2011-12-31 07:56:00   NaN   NaN   NaN    NaN           NaN   \n",
       "\n",
       "   Volume_(Currency)  Weighted_Price  \n",
       "0                2.0            4.39  \n",
       "1                NaN             NaN  \n",
       "2                NaN             NaN  \n",
       "3                NaN             NaN  \n",
       "4                NaN             NaN  "
      ]
     },
     "execution_count": 50,
     "metadata": {},
     "output_type": "execute_result"
    }
   ],
   "source": [
    "df.head()"
   ]
  },
  {
   "cell_type": "code",
   "execution_count": 51,
   "metadata": {},
   "outputs": [],
   "source": [
    "df = df.rename(columns={\"Timestamp\":\"date\"})"
   ]
  },
  {
   "cell_type": "code",
   "execution_count": 52,
   "metadata": {},
   "outputs": [
    {
     "data": {
      "text/html": [
       "<div>\n",
       "<style scoped>\n",
       "    .dataframe tbody tr th:only-of-type {\n",
       "        vertical-align: middle;\n",
       "    }\n",
       "\n",
       "    .dataframe tbody tr th {\n",
       "        vertical-align: top;\n",
       "    }\n",
       "\n",
       "    .dataframe thead th {\n",
       "        text-align: right;\n",
       "    }\n",
       "</style>\n",
       "<table border=\"1\" class=\"dataframe\">\n",
       "  <thead>\n",
       "    <tr style=\"text-align: right;\">\n",
       "      <th></th>\n",
       "      <th>date</th>\n",
       "      <th>Open</th>\n",
       "      <th>High</th>\n",
       "      <th>Low</th>\n",
       "      <th>Close</th>\n",
       "      <th>Volume_(BTC)</th>\n",
       "      <th>Volume_(Currency)</th>\n",
       "      <th>Weighted_Price</th>\n",
       "    </tr>\n",
       "  </thead>\n",
       "  <tbody>\n",
       "    <tr>\n",
       "      <th>0</th>\n",
       "      <td>2011-12-31 07:52:00</td>\n",
       "      <td>4.39</td>\n",
       "      <td>4.39</td>\n",
       "      <td>4.39</td>\n",
       "      <td>4.39</td>\n",
       "      <td>0.455581</td>\n",
       "      <td>2.0</td>\n",
       "      <td>4.39</td>\n",
       "    </tr>\n",
       "    <tr>\n",
       "      <th>1</th>\n",
       "      <td>2011-12-31 07:53:00</td>\n",
       "      <td>NaN</td>\n",
       "      <td>NaN</td>\n",
       "      <td>NaN</td>\n",
       "      <td>NaN</td>\n",
       "      <td>NaN</td>\n",
       "      <td>NaN</td>\n",
       "      <td>NaN</td>\n",
       "    </tr>\n",
       "    <tr>\n",
       "      <th>2</th>\n",
       "      <td>2011-12-31 07:54:00</td>\n",
       "      <td>NaN</td>\n",
       "      <td>NaN</td>\n",
       "      <td>NaN</td>\n",
       "      <td>NaN</td>\n",
       "      <td>NaN</td>\n",
       "      <td>NaN</td>\n",
       "      <td>NaN</td>\n",
       "    </tr>\n",
       "    <tr>\n",
       "      <th>3</th>\n",
       "      <td>2011-12-31 07:55:00</td>\n",
       "      <td>NaN</td>\n",
       "      <td>NaN</td>\n",
       "      <td>NaN</td>\n",
       "      <td>NaN</td>\n",
       "      <td>NaN</td>\n",
       "      <td>NaN</td>\n",
       "      <td>NaN</td>\n",
       "    </tr>\n",
       "    <tr>\n",
       "      <th>4</th>\n",
       "      <td>2011-12-31 07:56:00</td>\n",
       "      <td>NaN</td>\n",
       "      <td>NaN</td>\n",
       "      <td>NaN</td>\n",
       "      <td>NaN</td>\n",
       "      <td>NaN</td>\n",
       "      <td>NaN</td>\n",
       "      <td>NaN</td>\n",
       "    </tr>\n",
       "  </tbody>\n",
       "</table>\n",
       "</div>"
      ],
      "text/plain": [
       "                 date  Open  High   Low  Close  Volume_(BTC)  \\\n",
       "0 2011-12-31 07:52:00  4.39  4.39  4.39   4.39      0.455581   \n",
       "1 2011-12-31 07:53:00   NaN   NaN   NaN    NaN           NaN   \n",
       "2 2011-12-31 07:54:00   NaN   NaN   NaN    NaN           NaN   \n",
       "3 2011-12-31 07:55:00   NaN   NaN   NaN    NaN           NaN   \n",
       "4 2011-12-31 07:56:00   NaN   NaN   NaN    NaN           NaN   \n",
       "\n",
       "   Volume_(Currency)  Weighted_Price  \n",
       "0                2.0            4.39  \n",
       "1                NaN             NaN  \n",
       "2                NaN             NaN  \n",
       "3                NaN             NaN  \n",
       "4                NaN             NaN  "
      ]
     },
     "execution_count": 52,
     "metadata": {},
     "output_type": "execute_result"
    }
   ],
   "source": [
    "df[\"date\"] = pd.to_datetime(df[\"date\"],unit=\"s\")\n",
    "df.head()"
   ]
  },
  {
   "cell_type": "code",
   "execution_count": 53,
   "metadata": {},
   "outputs": [],
   "source": [
    "df1=df"
   ]
  },
  {
   "cell_type": "code",
   "execution_count": 54,
   "metadata": {},
   "outputs": [
    {
     "data": {
      "text/html": [
       "<div>\n",
       "<style scoped>\n",
       "    .dataframe tbody tr th:only-of-type {\n",
       "        vertical-align: middle;\n",
       "    }\n",
       "\n",
       "    .dataframe tbody tr th {\n",
       "        vertical-align: top;\n",
       "    }\n",
       "\n",
       "    .dataframe thead th {\n",
       "        text-align: right;\n",
       "    }\n",
       "</style>\n",
       "<table border=\"1\" class=\"dataframe\">\n",
       "  <thead>\n",
       "    <tr style=\"text-align: right;\">\n",
       "      <th></th>\n",
       "      <th>date</th>\n",
       "      <th>Open</th>\n",
       "      <th>High</th>\n",
       "      <th>Low</th>\n",
       "      <th>Close</th>\n",
       "      <th>Volume_(BTC)</th>\n",
       "      <th>Volume_(Currency)</th>\n",
       "      <th>Weighted_Price</th>\n",
       "    </tr>\n",
       "  </thead>\n",
       "  <tbody>\n",
       "    <tr>\n",
       "      <th>0</th>\n",
       "      <td>2011-12-31 07:52:00</td>\n",
       "      <td>4.39</td>\n",
       "      <td>4.39</td>\n",
       "      <td>4.39</td>\n",
       "      <td>4.39</td>\n",
       "      <td>0.455581</td>\n",
       "      <td>2.000000</td>\n",
       "      <td>4.390000</td>\n",
       "    </tr>\n",
       "    <tr>\n",
       "      <th>1</th>\n",
       "      <td>2011-12-31 07:53:00</td>\n",
       "      <td>NaN</td>\n",
       "      <td>NaN</td>\n",
       "      <td>NaN</td>\n",
       "      <td>NaN</td>\n",
       "      <td>NaN</td>\n",
       "      <td>NaN</td>\n",
       "      <td>NaN</td>\n",
       "    </tr>\n",
       "    <tr>\n",
       "      <th>2</th>\n",
       "      <td>2011-12-31 07:54:00</td>\n",
       "      <td>NaN</td>\n",
       "      <td>NaN</td>\n",
       "      <td>NaN</td>\n",
       "      <td>NaN</td>\n",
       "      <td>NaN</td>\n",
       "      <td>NaN</td>\n",
       "      <td>NaN</td>\n",
       "    </tr>\n",
       "    <tr>\n",
       "      <th>3</th>\n",
       "      <td>2011-12-31 07:55:00</td>\n",
       "      <td>NaN</td>\n",
       "      <td>NaN</td>\n",
       "      <td>NaN</td>\n",
       "      <td>NaN</td>\n",
       "      <td>NaN</td>\n",
       "      <td>NaN</td>\n",
       "      <td>NaN</td>\n",
       "    </tr>\n",
       "    <tr>\n",
       "      <th>4</th>\n",
       "      <td>2011-12-31 07:56:00</td>\n",
       "      <td>NaN</td>\n",
       "      <td>NaN</td>\n",
       "      <td>NaN</td>\n",
       "      <td>NaN</td>\n",
       "      <td>NaN</td>\n",
       "      <td>NaN</td>\n",
       "      <td>NaN</td>\n",
       "    </tr>\n",
       "    <tr>\n",
       "      <th>...</th>\n",
       "      <td>...</td>\n",
       "      <td>...</td>\n",
       "      <td>...</td>\n",
       "      <td>...</td>\n",
       "      <td>...</td>\n",
       "      <td>...</td>\n",
       "      <td>...</td>\n",
       "      <td>...</td>\n",
       "    </tr>\n",
       "    <tr>\n",
       "      <th>4363452</th>\n",
       "      <td>2020-04-21 23:56:00</td>\n",
       "      <td>6847.97</td>\n",
       "      <td>6856.35</td>\n",
       "      <td>6847.97</td>\n",
       "      <td>6856.35</td>\n",
       "      <td>0.125174</td>\n",
       "      <td>858.128697</td>\n",
       "      <td>6855.498790</td>\n",
       "    </tr>\n",
       "    <tr>\n",
       "      <th>4363453</th>\n",
       "      <td>2020-04-21 23:57:00</td>\n",
       "      <td>6850.23</td>\n",
       "      <td>6856.13</td>\n",
       "      <td>6850.23</td>\n",
       "      <td>6850.89</td>\n",
       "      <td>1.224777</td>\n",
       "      <td>8396.781459</td>\n",
       "      <td>6855.763449</td>\n",
       "    </tr>\n",
       "    <tr>\n",
       "      <th>4363454</th>\n",
       "      <td>2020-04-21 23:58:00</td>\n",
       "      <td>6846.50</td>\n",
       "      <td>6857.45</td>\n",
       "      <td>6846.02</td>\n",
       "      <td>6857.45</td>\n",
       "      <td>7.089168</td>\n",
       "      <td>48533.089069</td>\n",
       "      <td>6846.090966</td>\n",
       "    </tr>\n",
       "    <tr>\n",
       "      <th>4363455</th>\n",
       "      <td>2020-04-21 23:59:00</td>\n",
       "      <td>6854.18</td>\n",
       "      <td>6854.98</td>\n",
       "      <td>6854.18</td>\n",
       "      <td>6854.98</td>\n",
       "      <td>0.012231</td>\n",
       "      <td>83.831604</td>\n",
       "      <td>6854.195090</td>\n",
       "    </tr>\n",
       "    <tr>\n",
       "      <th>4363456</th>\n",
       "      <td>2020-04-22 00:00:00</td>\n",
       "      <td>6850.60</td>\n",
       "      <td>6850.60</td>\n",
       "      <td>6850.60</td>\n",
       "      <td>6850.60</td>\n",
       "      <td>0.014436</td>\n",
       "      <td>98.896906</td>\n",
       "      <td>6850.600000</td>\n",
       "    </tr>\n",
       "  </tbody>\n",
       "</table>\n",
       "<p>4363457 rows × 8 columns</p>\n",
       "</div>"
      ],
      "text/plain": [
       "                       date     Open     High      Low    Close  Volume_(BTC)  \\\n",
       "0       2011-12-31 07:52:00     4.39     4.39     4.39     4.39      0.455581   \n",
       "1       2011-12-31 07:53:00      NaN      NaN      NaN      NaN           NaN   \n",
       "2       2011-12-31 07:54:00      NaN      NaN      NaN      NaN           NaN   \n",
       "3       2011-12-31 07:55:00      NaN      NaN      NaN      NaN           NaN   \n",
       "4       2011-12-31 07:56:00      NaN      NaN      NaN      NaN           NaN   \n",
       "...                     ...      ...      ...      ...      ...           ...   \n",
       "4363452 2020-04-21 23:56:00  6847.97  6856.35  6847.97  6856.35      0.125174   \n",
       "4363453 2020-04-21 23:57:00  6850.23  6856.13  6850.23  6850.89      1.224777   \n",
       "4363454 2020-04-21 23:58:00  6846.50  6857.45  6846.02  6857.45      7.089168   \n",
       "4363455 2020-04-21 23:59:00  6854.18  6854.98  6854.18  6854.98      0.012231   \n",
       "4363456 2020-04-22 00:00:00  6850.60  6850.60  6850.60  6850.60      0.014436   \n",
       "\n",
       "         Volume_(Currency)  Weighted_Price  \n",
       "0                 2.000000        4.390000  \n",
       "1                      NaN             NaN  \n",
       "2                      NaN             NaN  \n",
       "3                      NaN             NaN  \n",
       "4                      NaN             NaN  \n",
       "...                    ...             ...  \n",
       "4363452         858.128697     6855.498790  \n",
       "4363453        8396.781459     6855.763449  \n",
       "4363454       48533.089069     6846.090966  \n",
       "4363455          83.831604     6854.195090  \n",
       "4363456          98.896906     6850.600000  \n",
       "\n",
       "[4363457 rows x 8 columns]"
      ]
     },
     "execution_count": 54,
     "metadata": {},
     "output_type": "execute_result"
    }
   ],
   "source": [
    "df1"
   ]
  },
  {
   "cell_type": "code",
   "execution_count": 55,
   "metadata": {},
   "outputs": [],
   "source": [
    "df2 = df1[['date',\"Weighted_Price\"]]"
   ]
  },
  {
   "cell_type": "code",
   "execution_count": 56,
   "metadata": {},
   "outputs": [],
   "source": [
    "df2=df2[(df2['date'] >='2019-05-01 00:00:00') & (df2['date'] <= '2019-06-01 23:59:00')]"
   ]
  },
  {
   "cell_type": "code",
   "execution_count": 58,
   "metadata": {},
   "outputs": [],
   "source": [
    "df2=df2.dropna()"
   ]
  },
  {
   "cell_type": "code",
   "execution_count": 59,
   "metadata": {},
   "outputs": [
    {
     "data": {
      "text/plain": [
       "<matplotlib.axes._subplots.AxesSubplot at 0x1327c9ac8>"
      ]
     },
     "execution_count": 59,
     "metadata": {},
     "output_type": "execute_result"
    },
    {
     "data": {
      "image/png": "[encoded data removed]",
      "text/plain": [
       "<Figure size 432x288 with 1 Axes>"
      ]
     },
     "metadata": {
      "needs_background": "light"
     },
     "output_type": "display_data"
    }
   ],
   "source": [
    "df2.plot(kind='line',x='date',y='Weighted_Price')"
   ]
  },
  {
   "cell_type": "code",
   "execution_count": 61,
   "metadata": {},
   "outputs": [],
   "source": [
    "import numpy as np\n",
    "import pandas as pd\n",
    "from keras.preprocessing import sequence\n",
    "from keras.models import load_model"
   ]
  },
  {
   "cell_type": "code",
   "execution_count": 66,
   "metadata": {},
   "outputs": [],
   "source": [
    "batch_size = 100\n",
    "timesteps = 50"
   ]
  },
  {
   "cell_type": "code",
   "execution_count": 67,
   "metadata": {},
   "outputs": [
    {
     "name": "stdout",
     "output_type": "stream",
     "text": [
      "41200\n"
     ]
    }
   ],
   "source": [
    "def get_train_length(dataset, batch_size, test_percent):\n",
    "    length = len(dataset)\n",
    "    length *= 1 - test_percent\n",
    "    train_length_values = []\n",
    "    for x in range(int(length) - 100,int(length)): \n",
    "        modulo=x%batch_size\n",
    "        if (modulo == 0):\n",
    "            train_length_values.append(x)\n",
    "            print(x)\n",
    "    return (max(train_length_values))\n",
    "length = get_train_length(df_data_1, batch_size, 0.1)"
   ]
  },
  {
   "cell_type": "code",
   "execution_count": 68,
   "metadata": {},
   "outputs": [
    {
     "data": {
      "text/plain": [
       "(41300, 1)"
      ]
     },
     "execution_count": 68,
     "metadata": {},
     "output_type": "execute_result"
    }
   ],
   "source": [
    "upper_train = length + timesteps*2\n",
    "df_data_1_train = df_data_1[0:upper_train]\n",
    "training_set = df_data_1_train\n",
    "training_set.shape"
   ]
  },
  {
   "cell_type": "code",
   "execution_count": 92,
   "metadata": {},
   "outputs": [
    {
     "data": {
      "text/plain": [
       "array([0.00036374])"
      ]
     },
     "execution_count": 92,
     "metadata": {},
     "output_type": "execute_result"
    }
   ],
   "source": [
    "# Feature Scaling\n",
    "#scale between 0 and 1. the weights are esier to find.\n",
    "from sklearn.preprocessing import MinMaxScaler\n",
    "sc = MinMaxScaler(feature_range = (0, 1))\n",
    "training_set_scaled = sc.fit_transform(np.float64(training_set))\n",
    "training_set_scaled[0]\n",
    "# training_set_scaled[0,0]"
   ]
  },
  {
   "cell_type": "code",
   "execution_count": 102,
   "metadata": {},
   "outputs": [
    {
     "name": "stdout",
     "output_type": "stream",
     "text": [
      "41250\n",
      "41200\n",
      "41200\n",
      "(41200, 50)\n",
      "(41200, 50)\n",
      "[array([0.00841909, 0.00915372, 0.0094442 , 0.00923429, 0.00925693,\n",
      "       0.00990258, 0.0091414 , 0.00874028, 0.00869218, 0.008583  ,\n",
      "       0.01018588, 0.01042041, 0.01042909, 0.01070024, 0.01112376,\n",
      "       0.01175124, 0.01077196, 0.0102064 , 0.0120319 , 0.01147501,\n",
      "       0.01081945, 0.01104571, 0.01110124, 0.01134332, 0.01138813,\n",
      "       0.01193433, 0.01192389, 0.01243706, 0.01259667, 0.01206433,\n",
      "       0.01174143, 0.01113975, 0.01112128, 0.01004723, 0.00920683,\n",
      "       0.00887755, 0.00882118, 0.0097191 , 0.00911829, 0.00833005,\n",
      "       0.00960445, 0.01016613, 0.009879  , 0.00991933, 0.00962975,\n",
      "       0.00902588, 0.00939164, 0.00885552, 0.00980509, 0.01005856])]\n"
     ]
    }
   ],
   "source": [
    "\n",
    "\n",
    "X_train = []\n",
    "y_train = []\n",
    "\n",
    "# Creating a data structure with n timesteps\n",
    "\n",
    "print(length + timesteps)\n",
    "for i in range(timesteps, length + timesteps): \n",
    "    X_train.append(training_set_scaled[i-timesteps:i,0])\n",
    "    y_train.append(training_set_scaled[i:i+timesteps,0])\n",
    "\n",
    "print(len(X_train))\n",
    "print(len(y_train))\n",
    "#create X_train matrix\n",
    "#30 items per array (timestep) \n",
    "# print(X_train[0:2])\n",
    "print(np.array(X_train).shape)\n",
    "#create Y_train matrix\n",
    "#30 items per array (timestep) \n",
    "print(np.array(y_train).shape)\n",
    "print(y_train[0:1])"
   ]
  },
  {
   "cell_type": "code",
   "execution_count": 71,
   "metadata": {},
   "outputs": [
    {
     "name": "stdout",
     "output_type": "stream",
     "text": [
      "(41200, 50, 1)\n",
      "(41200, 50, 1)\n"
     ]
    }
   ],
   "source": [
    "\n",
    "\n",
    "# Reshaping\n",
    "X_train, y_train = np.array(X_train), np.array(y_train)\n",
    "X_train = np.reshape(X_train, (X_train.shape[0], X_train.shape[1], 1))\n",
    "y_train = np.reshape(y_train, (y_train.shape[0], y_train.shape[1], 1))\n",
    "print(X_train.shape)\n",
    "print(y_train.shape)\n",
    "\n"
   ]
  },
  {
   "cell_type": "code",
   "execution_count": 72,
   "metadata": {},
   "outputs": [
    {
     "data": {
      "text/plain": [
       "(41200, 50, 1)"
      ]
     },
     "execution_count": 72,
     "metadata": {},
     "output_type": "execute_result"
    }
   ],
   "source": [
    "X_train.shape"
   ]
  },
  {
   "cell_type": "code",
   "execution_count": 73,
   "metadata": {},
   "outputs": [],
   "source": [
    "\n",
    "\n",
    "# Building the LSTM\n",
    "# Importing the Keras libraries and packages\n",
    "\n",
    "from keras.layers import Dense\n",
    "from keras.layers import Input, LSTM\n",
    "from keras.models import Model\n",
    "import h5py\n",
    "\n"
   ]
  },
  {
   "cell_type": "code",
   "execution_count": 74,
   "metadata": {},
   "outputs": [
    {
     "name": "stdout",
     "output_type": "stream",
     "text": [
      "Model: \"model_3\"\n",
      "_________________________________________________________________\n",
      "Layer (type)                 Output Shape              Param #   \n",
      "=================================================================\n",
      "input_3 (InputLayer)         (100, 50, 1)              0         \n",
      "_________________________________________________________________\n",
      "lstm_5 (LSTM)                (100, 50, 10)             480       \n",
      "_________________________________________________________________\n",
      "lstm_6 (LSTM)                (100, 50, 10)             840       \n",
      "_________________________________________________________________\n",
      "dense_3 (Dense)              (100, 50, 1)              11        \n",
      "=================================================================\n",
      "Total params: 1,331\n",
      "Trainable params: 1,331\n",
      "Non-trainable params: 0\n",
      "_________________________________________________________________\n"
     ]
    }
   ],
   "source": [
    "\n",
    "\n",
    "# Initialising the LSTM Model with MAE Loss-Function\n",
    "# Using Functional API\n",
    "\n",
    "inputs_1_mae = Input(batch_shape=(batch_size,timesteps,1))\n",
    "#each layer is the input of the next layer\n",
    "lstm_1_mae = LSTM(10, stateful=True, return_sequences=True)(inputs_1_mae)\n",
    "lstm_2_mae = LSTM(10, stateful=True, return_sequences=True)(lstm_1_mae)\n",
    "\n",
    "output_1_mae = Dense(units = 1)(lstm_2_mae)\n",
    "\n",
    "regressor_mae = Model(inputs=inputs_1_mae, outputs = output_1_mae)\n",
    "\n",
    "#adam is fast starting off and then gets slower and more precise\n",
    "#mae -> mean absolute error loss function\n",
    "regressor_mae.compile(optimizer='adam', loss = 'mae')\n",
    "regressor_mae.summary()\n",
    "\n"
   ]
  },
  {
   "cell_type": "code",
   "execution_count": 75,
   "metadata": {},
   "outputs": [
    {
     "name": "stdout",
     "output_type": "stream",
     "text": [
      "Epoch: 0\n",
      "Epoch 1/1\n",
      "41200/41200 [==============================] - 13s 325us/step - loss: 0.0263\n",
      "Epoch: 1\n",
      "Epoch 1/1\n",
      "41200/41200 [==============================] - 13s 312us/step - loss: 0.0296\n",
      "Epoch: 2\n",
      "Epoch 1/1\n",
      "41200/41200 [==============================] - 13s 325us/step - loss: 0.0198\n",
      "Epoch: 3\n",
      "Epoch 1/1\n",
      "41200/41200 [==============================] - 14s 331us/step - loss: 0.0183\n",
      "Epoch: 4\n",
      "Epoch 1/1\n",
      "41200/41200 [==============================] - 14s 338us/step - loss: 0.01730s - loss: \n",
      "Epoch: 5\n",
      "Epoch 1/1\n",
      "41200/41200 [==============================] - 14s 351us/step - loss: 0.0169\n",
      "Epoch: 6\n",
      "Epoch 1/1\n",
      "41200/41200 [==============================] - 14s 336us/step - loss: 0.0165\n",
      "Epoch: 7\n",
      "Epoch 1/1\n",
      "41200/41200 [==============================] - 13s 319us/step - loss: 0.0159\n",
      "Epoch: 8\n",
      "Epoch 1/1\n",
      "41200/41200 [==============================] - 13s 321us/step - loss: 0.0160\n",
      "Epoch: 9\n",
      "Epoch 1/1\n",
      "41200/41200 [==============================] - 13s 320us/step - loss: 0.0156\n"
     ]
    }
   ],
   "source": [
    "epochs = 10\n",
    "for i in range(epochs):\n",
    "    print(\"Epoch: \" + str(i))\n",
    "    #run through all data but the cell, hidden state are used for the next batch.\n",
    "    regressor_mae.fit(X_train, y_train, shuffle=False, epochs = 1, batch_size = batch_size)\n",
    "    #resets only the states but the weights, cell and hidden are kept.\n",
    "    regressor_mae.reset_states()\n",
    "    "
   ]
  },
  {
   "cell_type": "code",
   "execution_count": 76,
   "metadata": {},
   "outputs": [],
   "source": [
    "#save model\n",
    "import h5py\n",
    "regressor_mae.save(filepath=\"my_model_with_mae_30_ts.h5\")"
   ]
  },
  {
   "cell_type": "code",
   "execution_count": null,
   "metadata": {},
   "outputs": [],
   "source": [
    "# #load model\n",
    "# import h5py\n",
    "# regressor_mae = load_model(filepath=\"/Users/zhouwenbin/Documents/crypto/cryptocoin-project/my_model_with_mae_30_ts.h5\")"
   ]
  },
  {
   "cell_type": "code",
   "execution_count": 77,
   "metadata": {},
   "outputs": [],
   "source": [
    "def get_test_length(dataset, batch_size):\n",
    "    \n",
    "    test_length_values = []\n",
    "    for x in range(len(dataset) - 200, len(dataset) - timesteps*2): \n",
    "        modulo=(x-upper_train)%batch_size\n",
    "        if (modulo == 0):\n",
    "            test_length_values.append(x)\n",
    "            print(x)\n",
    "    return (max(test_length_values))"
   ]
  },
  {
   "cell_type": "code",
   "execution_count": 78,
   "metadata": {},
   "outputs": [
    {
     "name": "stdout",
     "output_type": "stream",
     "text": [
      "45700\n",
      "45700\n",
      "4400\n"
     ]
    }
   ],
   "source": [
    "test_length = get_test_length(df_data_1, batch_size)\n",
    "print(test_length)\n",
    "upper_test = test_length + timesteps*2\n",
    "testset_length = test_length - upper_train\n",
    "print(testset_length)"
   ]
  },
  {
   "cell_type": "code",
   "execution_count": 79,
   "metadata": {},
   "outputs": [],
   "source": [
    "# construct test set\n",
    "\n",
    "#subsetting\n",
    "df_data_1_test = df_data_1[upper_train:upper_test] \n",
    "test_set = df_data_1_test\n",
    "\n",
    "#scaling\n",
    "scaled_real_bcg_values_test = sc.fit_transform(np.float64(test_set))\n",
    "\n",
    "#creating input data\n",
    "X_test = []\n",
    "for i in range(timesteps, testset_length + timesteps):\n",
    "    X_test.append(scaled_real_bcg_values_test[i-timesteps:i, 0])\n",
    "X_test = np.array(X_test)\n",
    "\n",
    "\n",
    "#reshaping\n",
    "X_test = np.reshape(X_test, (X_test.shape[0], X_test.shape[1], 1))"
   ]
  },
  {
   "cell_type": "code",
   "execution_count": 80,
   "metadata": {},
   "outputs": [
    {
     "data": {
      "text/plain": [
       "(4400, 50, 1)"
      ]
     },
     "execution_count": 80,
     "metadata": {},
     "output_type": "execute_result"
    }
   ],
   "source": [
    "X_test.shape"
   ]
  },
  {
   "cell_type": "code",
   "execution_count": 81,
   "metadata": {},
   "outputs": [
    {
     "name": "stdout",
     "output_type": "stream",
     "text": [
      "(4400, 50, 1)\n",
      "(4400, 50)\n",
      "(4350, 1)\n"
     ]
    }
   ],
   "source": [
    "#prediction\n",
    "predicted_bcg_values_test_mae = regressor_mae.predict(X_test, batch_size=batch_size)\n",
    "regressor_mae.reset_states()\n",
    "\n",
    "print(predicted_bcg_values_test_mae.shape)\n",
    "\n",
    "#reshaping\n",
    "predicted_bcg_values_test_mae = np.reshape(predicted_bcg_values_test_mae, \n",
    "                                       (predicted_bcg_values_test_mae.shape[0], \n",
    "                                        predicted_bcg_values_test_mae.shape[1]))\n",
    "\n",
    "print(predicted_bcg_values_test_mae.shape)\n",
    "#inverse transform\n",
    "predicted_bcg_values_test_mae = sc.inverse_transform(predicted_bcg_values_test_mae)\n",
    "\n",
    "\n",
    "#creating y_test data\n",
    "y_test = []\n",
    "for j in range(0, testset_length - timesteps):\n",
    "    y_test = np.append(y_test, predicted_bcg_values_test_mae[j, timesteps-1])\n",
    "\n",
    "# reshaping\n",
    "y_test = np.reshape(y_test, (y_test.shape[0], 1))\n",
    "\n",
    "print(y_test.shape)"
   ]
  },
  {
   "cell_type": "code",
   "execution_count": 88,
   "metadata": {},
   "outputs": [
    {
     "data": {
      "image/png": "[encoded data removed]",
      "text/plain": [
       "<Figure size 432x288 with 1 Axes>"
      ]
     },
     "metadata": {
      "needs_background": "light"
     },
     "output_type": "display_data"
    }
   ],
   "source": [
    "plt.plot(test_set[timesteps:len(y_test)].astype(float), color = 'red', label = 'Real BTC Prices')\n",
    "plt.plot(y_test[0:len(y_test) - timesteps].astype(float), color = 'blue', label = 'Predicted BTC Prices')\n",
    "plt.title('BTC Prices Prediction')\n",
    "plt.xlabel('Time')\n",
    "plt.ylabel('BTC Prices')\n",
    "plt.legend()\n",
    "plt.show()"
   ]
  },
  {
   "cell_type": "code",
   "execution_count": 83,
   "metadata": {},
   "outputs": [
    {
     "name": "stdout",
     "output_type": "stream",
     "text": [
      "90.06344366112621\n"
     ]
    }
   ],
   "source": [
    "import math\n",
    "from sklearn.metrics import mean_squared_error\n",
    "rmse = math.sqrt(mean_squared_error(test_set[timesteps:len(y_test)], y_test[0:len(y_test) - timesteps]))\n",
    "print(rmse)"
   ]
  },
  {
   "cell_type": "code",
   "execution_count": 84,
   "metadata": {},
   "outputs": [
    {
     "name": "stdout",
     "output_type": "stream",
     "text": [
      "83.28554322012062\n"
     ]
    }
   ],
   "source": [
    "#MAE (mean absolut error)\n",
    "from sklearn.metrics import mean_absolute_error\n",
    "mae = mean_absolute_error(test_set[timesteps:len(y_test)], y_test[0:len(y_test) - timesteps])\n",
    "print(mae)"
   ]
  },
  {
   "cell_type": "code",
   "execution_count": 94,
   "metadata": {},
   "outputs": [],
   "source": [
    "from numpy import array\n",
    "seq = [[0.0, 0.1], [0.1, 0.2], [0.2, 0.3], [0.3, 0.4], [0.4, 0.5]]\n",
    "seq = array(seq)\n",
    "X, y = seq[:, 0], seq[:, 1]"
   ]
  },
  {
   "cell_type": "code",
   "execution_count": 97,
   "metadata": {},
   "outputs": [
    {
     "data": {
      "text/plain": [
       "(array([0. , 0.1, 0.2, 0.3, 0.4]), array([0.1, 0.2, 0.3, 0.4, 0.5]))"
      ]
     },
     "execution_count": 97,
     "metadata": {},
     "output_type": "execute_result"
    }
   ],
   "source": [
    "X,y"
   ]
  },
  {
   "cell_type": "code",
   "execution_count": 101,
   "metadata": {},
   "outputs": [
    {
     "data": {
      "text/plain": [
       "array([[1., 0., 0.],\n",
       "       [0., 0., 1.],\n",
       "       [0., 1., 0.],\n",
       "       [0., 0., 1.],\n",
       "       [1., 0., 0.]], dtype=float32)"
      ]
     },
     "execution_count": 101,
     "metadata": {},
     "output_type": "execute_result"
    }
   ],
   "source": [
    "import keras\n",
    "labels = array([0, 2, 1, 2, 0])\n",
    "keras.utils.to_categorical(labels)"
   ]
  },
  {
   "cell_type": "code",
   "execution_count": null,
   "metadata": {},
   "outputs": [],
   "source": []
  }
 ],
 "metadata": {
  "kernelspec": {
   "display_name": "Python 3",
   "language": "python",
   "name": "python3"
  },
  "language_info": {
   "codemirror_mode": {
    "name": "ipython",
    "version": 3
   },
   "file_extension": ".py",
   "mimetype": "text/x-python",
   "name": "python",
   "nbconvert_exporter": "python",
   "pygments_lexer": "ipython3",
   "version": "3.6.10"
  }
 },
 "nbformat": 4,
 "nbformat_minor": 4
}
