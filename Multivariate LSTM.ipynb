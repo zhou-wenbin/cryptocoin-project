{
 "cells": [
  {
   "cell_type": "markdown",
   "metadata": {},
   "source": [
    "## The following is the reference\n",
    "https://machinelearningmastery.com/multivariate-time-series-forecasting-lstms-keras/"
   ]
  },
  {
   "cell_type": "code",
   "execution_count": 1,
   "metadata": {},
   "outputs": [
    {
     "name": "stderr",
     "output_type": "stream",
     "text": [
      "Using TensorFlow backend.\n",
      "/Users/zhouwenbin/anaconda3/envs/py36/lib/python3.6/site-packages/tensorflow/python/framework/dtypes.py:526: FutureWarning: Passing (type, 1) or '1type' as a synonym of type is deprecated; in a future version of numpy, it will be understood as (type, (1,)) / '(1,)type'.\n",
      "  _np_qint8 = np.dtype([(\"qint8\", np.int8, 1)])\n",
      "/Users/zhouwenbin/anaconda3/envs/py36/lib/python3.6/site-packages/tensorflow/python/framework/dtypes.py:527: FutureWarning: Passing (type, 1) or '1type' as a synonym of type is deprecated; in a future version of numpy, it will be understood as (type, (1,)) / '(1,)type'.\n",
      "  _np_quint8 = np.dtype([(\"quint8\", np.uint8, 1)])\n",
      "/Users/zhouwenbin/anaconda3/envs/py36/lib/python3.6/site-packages/tensorflow/python/framework/dtypes.py:528: FutureWarning: Passing (type, 1) or '1type' as a synonym of type is deprecated; in a future version of numpy, it will be understood as (type, (1,)) / '(1,)type'.\n",
      "  _np_qint16 = np.dtype([(\"qint16\", np.int16, 1)])\n",
      "/Users/zhouwenbin/anaconda3/envs/py36/lib/python3.6/site-packages/tensorflow/python/framework/dtypes.py:529: FutureWarning: Passing (type, 1) or '1type' as a synonym of type is deprecated; in a future version of numpy, it will be understood as (type, (1,)) / '(1,)type'.\n",
      "  _np_quint16 = np.dtype([(\"quint16\", np.uint16, 1)])\n",
      "/Users/zhouwenbin/anaconda3/envs/py36/lib/python3.6/site-packages/tensorflow/python/framework/dtypes.py:530: FutureWarning: Passing (type, 1) or '1type' as a synonym of type is deprecated; in a future version of numpy, it will be understood as (type, (1,)) / '(1,)type'.\n",
      "  _np_qint32 = np.dtype([(\"qint32\", np.int32, 1)])\n",
      "/Users/zhouwenbin/anaconda3/envs/py36/lib/python3.6/site-packages/tensorflow/python/framework/dtypes.py:535: FutureWarning: Passing (type, 1) or '1type' as a synonym of type is deprecated; in a future version of numpy, it will be understood as (type, (1,)) / '(1,)type'.\n",
      "  np_resource = np.dtype([(\"resource\", np.ubyte, 1)])\n"
     ]
    }
   ],
   "source": [
    "import pandas as pd \n",
    "from pandas import DataFrame\n",
    "from pandas import concat\n",
    "from math import sqrt\n",
    "from numpy import concatenate\n",
    "from sklearn.metrics import mean_squared_error\n",
    "import matplotlib.pyplot as pyplot \n",
    "import numpy as np \n",
    "from sklearn.preprocessing import MinMaxScaler\n",
    "from keras import Sequential\n",
    "from keras.layers import LSTM, Dense, Dropout, Activation\n",
    "from pandas import read_csv"
   ]
  },
  {
   "cell_type": "code",
   "execution_count": 2,
   "metadata": {},
   "outputs": [],
   "source": [
    "df1 =  pd.read_csv(\"/Users/zhouwenbin/Documents/crypto/bitcoin-historical-data/bitstampUSD_1-min_data_2012-01-01_to_2020-04-22.csv\")"
   ]
  },
  {
   "cell_type": "code",
   "execution_count": 3,
   "metadata": {},
   "outputs": [],
   "source": [
    "df1 = df1.rename(columns={\"Timestamp\":\"Date\"})\n",
    "df1[\"Date\"] = pd.to_datetime(df1[\"Date\"],unit=\"s\")"
   ]
  },
  {
   "cell_type": "code",
   "execution_count": 4,
   "metadata": {},
   "outputs": [
    {
     "data": {
      "text/html": [
       "<div>\n",
       "<style scoped>\n",
       "    .dataframe tbody tr th:only-of-type {\n",
       "        vertical-align: middle;\n",
       "    }\n",
       "\n",
       "    .dataframe tbody tr th {\n",
       "        vertical-align: top;\n",
       "    }\n",
       "\n",
       "    .dataframe thead th {\n",
       "        text-align: right;\n",
       "    }\n",
       "</style>\n",
       "<table border=\"1\" class=\"dataframe\">\n",
       "  <thead>\n",
       "    <tr style=\"text-align: right;\">\n",
       "      <th></th>\n",
       "      <th>Date</th>\n",
       "      <th>Open</th>\n",
       "      <th>High</th>\n",
       "      <th>Low</th>\n",
       "      <th>Close</th>\n",
       "      <th>Volume_(BTC)</th>\n",
       "      <th>Volume_(Currency)</th>\n",
       "      <th>Weighted_Price</th>\n",
       "    </tr>\n",
       "  </thead>\n",
       "  <tbody>\n",
       "    <tr>\n",
       "      <th>4363455</th>\n",
       "      <td>2020-04-21 23:59:00</td>\n",
       "      <td>6854.18</td>\n",
       "      <td>6854.98</td>\n",
       "      <td>6854.18</td>\n",
       "      <td>6854.98</td>\n",
       "      <td>0.012231</td>\n",
       "      <td>83.831604</td>\n",
       "      <td>6854.19509</td>\n",
       "    </tr>\n",
       "    <tr>\n",
       "      <th>4363456</th>\n",
       "      <td>2020-04-22 00:00:00</td>\n",
       "      <td>6850.60</td>\n",
       "      <td>6850.60</td>\n",
       "      <td>6850.60</td>\n",
       "      <td>6850.60</td>\n",
       "      <td>0.014436</td>\n",
       "      <td>98.896906</td>\n",
       "      <td>6850.60000</td>\n",
       "    </tr>\n",
       "  </tbody>\n",
       "</table>\n",
       "</div>"
      ],
      "text/plain": [
       "                       Date     Open     High      Low    Close  Volume_(BTC)  \\\n",
       "4363455 2020-04-21 23:59:00  6854.18  6854.98  6854.18  6854.98      0.012231   \n",
       "4363456 2020-04-22 00:00:00  6850.60  6850.60  6850.60  6850.60      0.014436   \n",
       "\n",
       "         Volume_(Currency)  Weighted_Price  \n",
       "4363455          83.831604      6854.19509  \n",
       "4363456          98.896906      6850.60000  "
      ]
     },
     "execution_count": 4,
     "metadata": {},
     "output_type": "execute_result"
    }
   ],
   "source": [
    "df1.tail(2)"
   ]
  },
  {
   "cell_type": "code",
   "execution_count": 5,
   "metadata": {},
   "outputs": [],
   "source": [
    "df2=df1[(df1['Date'] >='2020-03-01 00:00:00') & (df1['Date'] <= '2020-03-31 23:59:00')]"
   ]
  },
  {
   "cell_type": "code",
   "execution_count": 6,
   "metadata": {},
   "outputs": [],
   "source": [
    "df2=df2[[\"Date\",\"Close\", \"Volume_(BTC)\"]]"
   ]
  },
  {
   "cell_type": "code",
   "execution_count": 7,
   "metadata": {},
   "outputs": [
    {
     "data": {
      "text/html": [
       "<div>\n",
       "<style scoped>\n",
       "    .dataframe tbody tr th:only-of-type {\n",
       "        vertical-align: middle;\n",
       "    }\n",
       "\n",
       "    .dataframe tbody tr th {\n",
       "        vertical-align: top;\n",
       "    }\n",
       "\n",
       "    .dataframe thead th {\n",
       "        text-align: right;\n",
       "    }\n",
       "</style>\n",
       "<table border=\"1\" class=\"dataframe\">\n",
       "  <thead>\n",
       "    <tr style=\"text-align: right;\">\n",
       "      <th></th>\n",
       "      <th>Date</th>\n",
       "      <th>Close</th>\n",
       "      <th>Volume_(BTC)</th>\n",
       "    </tr>\n",
       "  </thead>\n",
       "  <tbody>\n",
       "    <tr>\n",
       "      <th>4288576</th>\n",
       "      <td>2020-03-01 00:00:00</td>\n",
       "      <td>8556.65</td>\n",
       "      <td>15.188068</td>\n",
       "    </tr>\n",
       "    <tr>\n",
       "      <th>4288577</th>\n",
       "      <td>2020-03-01 00:01:00</td>\n",
       "      <td>8554.50</td>\n",
       "      <td>2.542385</td>\n",
       "    </tr>\n",
       "    <tr>\n",
       "      <th>4288578</th>\n",
       "      <td>2020-03-01 00:02:00</td>\n",
       "      <td>8561.72</td>\n",
       "      <td>43.567942</td>\n",
       "    </tr>\n",
       "    <tr>\n",
       "      <th>4288579</th>\n",
       "      <td>2020-03-01 00:03:00</td>\n",
       "      <td>8558.42</td>\n",
       "      <td>3.910809</td>\n",
       "    </tr>\n",
       "    <tr>\n",
       "      <th>4288580</th>\n",
       "      <td>2020-03-01 00:04:00</td>\n",
       "      <td>8569.18</td>\n",
       "      <td>0.120000</td>\n",
       "    </tr>\n",
       "    <tr>\n",
       "      <th>...</th>\n",
       "      <td>...</td>\n",
       "      <td>...</td>\n",
       "      <td>...</td>\n",
       "    </tr>\n",
       "    <tr>\n",
       "      <th>4333211</th>\n",
       "      <td>2020-03-31 23:55:00</td>\n",
       "      <td>6440.21</td>\n",
       "      <td>0.257798</td>\n",
       "    </tr>\n",
       "    <tr>\n",
       "      <th>4333212</th>\n",
       "      <td>2020-03-31 23:56:00</td>\n",
       "      <td>6431.51</td>\n",
       "      <td>2.591804</td>\n",
       "    </tr>\n",
       "    <tr>\n",
       "      <th>4333213</th>\n",
       "      <td>2020-03-31 23:57:00</td>\n",
       "      <td>6430.43</td>\n",
       "      <td>0.194366</td>\n",
       "    </tr>\n",
       "    <tr>\n",
       "      <th>4333214</th>\n",
       "      <td>2020-03-31 23:58:00</td>\n",
       "      <td>6426.46</td>\n",
       "      <td>0.195139</td>\n",
       "    </tr>\n",
       "    <tr>\n",
       "      <th>4333215</th>\n",
       "      <td>2020-03-31 23:59:00</td>\n",
       "      <td>6421.14</td>\n",
       "      <td>0.202490</td>\n",
       "    </tr>\n",
       "  </tbody>\n",
       "</table>\n",
       "<p>44277 rows × 3 columns</p>\n",
       "</div>"
      ],
      "text/plain": [
       "                       Date    Close  Volume_(BTC)\n",
       "4288576 2020-03-01 00:00:00  8556.65     15.188068\n",
       "4288577 2020-03-01 00:01:00  8554.50      2.542385\n",
       "4288578 2020-03-01 00:02:00  8561.72     43.567942\n",
       "4288579 2020-03-01 00:03:00  8558.42      3.910809\n",
       "4288580 2020-03-01 00:04:00  8569.18      0.120000\n",
       "...                     ...      ...           ...\n",
       "4333211 2020-03-31 23:55:00  6440.21      0.257798\n",
       "4333212 2020-03-31 23:56:00  6431.51      2.591804\n",
       "4333213 2020-03-31 23:57:00  6430.43      0.194366\n",
       "4333214 2020-03-31 23:58:00  6426.46      0.195139\n",
       "4333215 2020-03-31 23:59:00  6421.14      0.202490\n",
       "\n",
       "[44277 rows x 3 columns]"
      ]
     },
     "execution_count": 7,
     "metadata": {},
     "output_type": "execute_result"
    }
   ],
   "source": [
    "df2.dropna()"
   ]
  },
  {
   "cell_type": "code",
   "execution_count": 8,
   "metadata": {},
   "outputs": [
    {
     "data": {
      "text/html": [
       "<div>\n",
       "<style scoped>\n",
       "    .dataframe tbody tr th:only-of-type {\n",
       "        vertical-align: middle;\n",
       "    }\n",
       "\n",
       "    .dataframe tbody tr th {\n",
       "        vertical-align: top;\n",
       "    }\n",
       "\n",
       "    .dataframe thead th {\n",
       "        text-align: right;\n",
       "    }\n",
       "</style>\n",
       "<table border=\"1\" class=\"dataframe\">\n",
       "  <thead>\n",
       "    <tr style=\"text-align: right;\">\n",
       "      <th></th>\n",
       "      <th>Date</th>\n",
       "      <th>Close</th>\n",
       "      <th>Volume_(BTC)</th>\n",
       "    </tr>\n",
       "  </thead>\n",
       "  <tbody>\n",
       "    <tr>\n",
       "      <th>4288576</th>\n",
       "      <td>2020-03-01 00:00:00</td>\n",
       "      <td>8556.65</td>\n",
       "      <td>15.188068</td>\n",
       "    </tr>\n",
       "    <tr>\n",
       "      <th>4288577</th>\n",
       "      <td>2020-03-01 00:01:00</td>\n",
       "      <td>8554.50</td>\n",
       "      <td>2.542385</td>\n",
       "    </tr>\n",
       "  </tbody>\n",
       "</table>\n",
       "</div>"
      ],
      "text/plain": [
       "                       Date    Close  Volume_(BTC)\n",
       "4288576 2020-03-01 00:00:00  8556.65     15.188068\n",
       "4288577 2020-03-01 00:01:00  8554.50      2.542385"
      ]
     },
     "execution_count": 8,
     "metadata": {},
     "output_type": "execute_result"
    }
   ],
   "source": [
    "df2.head(2)"
   ]
  },
  {
   "cell_type": "code",
   "execution_count": 9,
   "metadata": {},
   "outputs": [],
   "source": [
    "values = df2.values"
   ]
  },
  {
   "cell_type": "code",
   "execution_count": 10,
   "metadata": {},
   "outputs": [
    {
     "name": "stdout",
     "output_type": "stream",
     "text": [
      "[[Timestamp('2020-03-01 00:00:00') 8556.65 15.18806767]\n",
      " [Timestamp('2020-03-01 00:01:00') 8554.5 2.54238498]\n",
      " [Timestamp('2020-03-01 00:02:00') 8561.72 43.56794154]\n",
      " ...\n",
      " [Timestamp('2020-03-31 23:57:00') 6430.43 0.19436595]\n",
      " [Timestamp('2020-03-31 23:58:00') 6426.46 0.1951393]\n",
      " [Timestamp('2020-03-31 23:59:00') 6421.14 0.20248999]]\n"
     ]
    }
   ],
   "source": [
    "print(values)"
   ]
  },
  {
   "cell_type": "code",
   "execution_count": 11,
   "metadata": {},
   "outputs": [
    {
     "data": {
      "image/png": "[encoded data removed]",
      "text/plain": [
       "<Figure size 432x288 with 3 Axes>"
      ]
     },
     "metadata": {
      "needs_background": "light"
     },
     "output_type": "display_data"
    }
   ],
   "source": [
    "groups = [0, 1, 2]\n",
    "i = 1\n",
    "# plot each column\n",
    "pyplot.figure()\n",
    "for group in groups:\n",
    "\tpyplot.subplot(len(groups), 1, i)\n",
    "\tpyplot.plot(values[:, group])\n",
    "\tpyplot.title(df2.columns[group], y=0.5, loc='right')\n",
    "\ti += 1\n",
    "pyplot.show()"
   ]
  },
  {
   "cell_type": "code",
   "execution_count": 12,
   "metadata": {},
   "outputs": [],
   "source": [
    "# convert series to supervised learning\n",
    "def series_to_supervised(data, n_in=1, n_out=1, dropnan=True):\n",
    "\tn_vars = 1 if type(data) is list else data.shape[1]\n",
    "\tdf = DataFrame(data)\n",
    "\tcols, names = list(), list()\n",
    "\t# Here is created input columns which are (t-n, ... t-1)\n",
    "\tfor i in range(n_in, 0, -1):\n",
    "\t\tcols.append(df.shift(i))\n",
    "\t\tnames += [('var%d(t-%d)' % (j+1, i)) for j in range(n_vars)]\n",
    "\t# Here is created output/forecast column which are (t, t+1, ... t+n)\n",
    "\tfor i in range(0, n_out):\n",
    "\t\tcols.append(df.shift(-i))\n",
    "\t\tif i == 0:\n",
    "\t\t\tnames += [('var%d(t)' % (j+1)) for j in range(n_vars)]\n",
    "\t\telse:\n",
    "\t\t\tnames += [('var%d(t+%d)' % (j+1, i)) for j in range(n_vars)]\n",
    "\t# put it all together\n",
    "\tagg = concat(cols, axis=1)\n",
    "\tagg.columns = names\n",
    "\t# drop rows with NaN values\n",
    "\tif dropnan:\n",
    "\t\tagg.dropna(inplace=True)\n",
    "\treturn agg"
   ]
  },
  {
   "cell_type": "code",
   "execution_count": 13,
   "metadata": {},
   "outputs": [
    {
     "name": "stdout",
     "output_type": "stream",
     "text": [
      "[[8.5566504e+03 1.5188067e+01]\n",
      " [8.5545000e+03 2.5423849e+00]\n",
      " [8.5617197e+03 4.3567940e+01]\n",
      " ...\n",
      " [6.4304302e+03 1.9436595e-01]\n",
      " [6.4264600e+03 1.9513930e-01]\n",
      " [6.4211401e+03 2.0248999e-01]]\n"
     ]
    }
   ],
   "source": [
    "df3=df2\n",
    "df3=df2[[\"Close\",\"Volume_(BTC)\"]]\n",
    "values=df3.values\n",
    "values = values.astype('float32')\n",
    "print(values)\n"
   ]
  },
  {
   "cell_type": "code",
   "execution_count": 14,
   "metadata": {},
   "outputs": [
    {
     "data": {
      "text/plain": [
       "15.188067"
      ]
     },
     "execution_count": 14,
     "metadata": {},
     "output_type": "execute_result"
    }
   ],
   "source": [
    "values[0,1]"
   ]
  },
  {
   "cell_type": "code",
   "execution_count": 15,
   "metadata": {},
   "outputs": [
    {
     "name": "stdout",
     "output_type": "stream",
     "text": [
      "[[8.7876391e-01 1.5756626e-02]\n",
      " [8.7836123e-01 2.6375577e-03]\n",
      " [8.7971342e-01 4.5198888e-02]\n",
      " ...\n",
      " [4.8051488e-01 2.0164177e-04]\n",
      " [4.7977114e-01 2.0244408e-04]\n",
      " [4.7877479e-01 2.1006993e-04]]\n"
     ]
    }
   ],
   "source": [
    "# Dataset values are normalized by using MinMax method\n",
    "scaler = MinMaxScaler(feature_range=(0,1))\n",
    "scaled = scaler.fit_transform(values)\n",
    "print(scaled)"
   ]
  },
  {
   "cell_type": "code",
   "execution_count": 16,
   "metadata": {},
   "outputs": [
    {
     "name": "stdout",
     "output_type": "stream",
     "text": [
      "   var1(t-1)  var2(t-1)   var1(t)   var2(t)\n",
      "1   0.878764   0.015757  0.878361  0.002638\n",
      "2   0.878361   0.002638  0.879713  0.045199\n",
      "3   0.879713   0.045199  0.879095  0.004057\n",
      "4   0.879095   0.004057  0.881111  0.000124\n",
      "5   0.881111   0.000124  0.881021  0.001360\n"
     ]
    }
   ],
   "source": [
    "# Normalized values are converted for supervised learning \n",
    "reframed = series_to_supervised(scaled,1,1)\n",
    "print(reframed.head())"
   ]
  },
  {
   "cell_type": "code",
   "execution_count": 17,
   "metadata": {},
   "outputs": [],
   "source": [
    "# drop columns we don't want to predict\n",
    "reframed.drop(reframed.columns[[3]], axis=1, inplace=True)"
   ]
  },
  {
   "cell_type": "code",
   "execution_count": 18,
   "metadata": {},
   "outputs": [
    {
     "name": "stdout",
     "output_type": "stream",
     "text": [
      "   var1(t-1)  var2(t-1)   var1(t)\n",
      "1   0.878764   0.015757  0.878361\n",
      "2   0.878361   0.002638  0.879713\n",
      "3   0.879713   0.045199  0.879095\n",
      "4   0.879095   0.004057  0.881111\n",
      "5   0.881111   0.000124  0.881021\n"
     ]
    }
   ],
   "source": [
    "print(reframed.head())"
   ]
  },
  {
   "cell_type": "code",
   "execution_count": 19,
   "metadata": {},
   "outputs": [],
   "source": [
    "# Dataset is splitted into two groups which are train and test sets\n",
    "values = reframed.values \n",
    "train_size = int(len(values)*0.70)\n",
    "train = values[:train_size,:]\n",
    "test = values[train_size:,:]"
   ]
  },
  {
   "cell_type": "code",
   "execution_count": 20,
   "metadata": {},
   "outputs": [
    {
     "data": {
      "text/plain": [
       "(30757, 3)"
      ]
     },
     "execution_count": 20,
     "metadata": {},
     "output_type": "execute_result"
    }
   ],
   "source": [
    "train.shape"
   ]
  },
  {
   "cell_type": "code",
   "execution_count": 21,
   "metadata": {},
   "outputs": [
    {
     "data": {
      "text/plain": [
       "array([0.8787639 , 0.01575663, 0.8783612 ], dtype=float32)"
      ]
     },
     "execution_count": 21,
     "metadata": {},
     "output_type": "execute_result"
    }
   ],
   "source": [
    "train[0]"
   ]
  },
  {
   "cell_type": "code",
   "execution_count": 22,
   "metadata": {},
   "outputs": [
    {
     "data": {
      "text/plain": [
       "(13183, 3)"
      ]
     },
     "execution_count": 22,
     "metadata": {},
     "output_type": "execute_result"
    }
   ],
   "source": [
    "test.shape"
   ]
  },
  {
   "cell_type": "code",
   "execution_count": 23,
   "metadata": {},
   "outputs": [
    {
     "name": "stdout",
     "output_type": "stream",
     "text": [
      "[0.8783612  0.8797134  0.87909544 ... 0.41105497 0.41115987 0.41214514]\n"
     ]
    }
   ],
   "source": [
    "# Splitted datasets are splitted to trainX, trainY, testX and testY \n",
    "trainX, trainY = train[:,:-1], train[:,-1]\n",
    "testX, testY = test[:,:-1], test[:,-1]\n",
    "print(trainY)"
   ]
  },
  {
   "cell_type": "code",
   "execution_count": 24,
   "metadata": {},
   "outputs": [
    {
     "data": {
      "text/plain": [
       "(30757, 2)"
      ]
     },
     "execution_count": 24,
     "metadata": {},
     "output_type": "execute_result"
    }
   ],
   "source": [
    "trainX.shape"
   ]
  },
  {
   "cell_type": "code",
   "execution_count": 25,
   "metadata": {},
   "outputs": [
    {
     "data": {
      "text/plain": [
       "array([0.8787639 , 0.01575663], dtype=float32)"
      ]
     },
     "execution_count": 25,
     "metadata": {},
     "output_type": "execute_result"
    }
   ],
   "source": [
    "trainX[0]"
   ]
  },
  {
   "cell_type": "code",
   "execution_count": 26,
   "metadata": {},
   "outputs": [
    {
     "data": {
      "text/plain": [
       "(30757,)"
      ]
     },
     "execution_count": 26,
     "metadata": {},
     "output_type": "execute_result"
    }
   ],
   "source": [
    "trainY.shape"
   ]
  },
  {
   "cell_type": "code",
   "execution_count": 27,
   "metadata": {},
   "outputs": [
    {
     "data": {
      "text/plain": [
       "0.8783612"
      ]
     },
     "execution_count": 27,
     "metadata": {},
     "output_type": "execute_result"
    }
   ],
   "source": [
    "trainY[0]"
   ]
  },
  {
   "cell_type": "code",
   "execution_count": 28,
   "metadata": {},
   "outputs": [
    {
     "name": "stdout",
     "output_type": "stream",
     "text": [
      "(30757, 1, 2) (30757,) (13183, 1, 2) (13183,)\n"
     ]
    }
   ],
   "source": [
    "# Train and Test datasets are reshaped in 3D size to be used in LSTM\n",
    "trainX = trainX.reshape((trainX.shape[0],1,trainX.shape[1]))\n",
    "testX = testX.reshape((testX.shape[0],1,testX.shape[1]))\n",
    "print(trainX.shape, trainY.shape,testX.shape,testY.shape)"
   ]
  },
  {
   "cell_type": "code",
   "execution_count": 29,
   "metadata": {},
   "outputs": [
    {
     "data": {
      "text/plain": [
       "2"
      ]
     },
     "execution_count": 29,
     "metadata": {},
     "output_type": "execute_result"
    }
   ],
   "source": [
    "testX.shape[2]"
   ]
  },
  {
   "cell_type": "code",
   "execution_count": 30,
   "metadata": {},
   "outputs": [
    {
     "name": "stdout",
     "output_type": "stream",
     "text": [
      "WARNING:tensorflow:From /Users/zhouwenbin/anaconda3/envs/py36/lib/python3.6/site-packages/tensorflow/python/ops/resource_variable_ops.py:435: colocate_with (from tensorflow.python.framework.ops) is deprecated and will be removed in a future version.\n",
      "Instructions for updating:\n",
      "Colocations handled automatically by placer.\n"
     ]
    }
   ],
   "source": [
    "# LSTM model is created and adjusted neuron structure\n",
    "model = Sequential()\n",
    "model.add(LSTM(128, input_shape=(trainX.shape[1], trainX.shape[2])))\n",
    "model.add(Dropout(0.05))\n",
    "model.add(Dense(1))\n",
    "model.add(Activation('linear'))\n",
    "model.compile(loss='mae', optimizer='adam')"
   ]
  },
  {
   "cell_type": "code",
   "execution_count": 31,
   "metadata": {},
   "outputs": [
    {
     "name": "stdout",
     "output_type": "stream",
     "text": [
      "Model: \"sequential_1\"\n",
      "_________________________________________________________________\n",
      "Layer (type)                 Output Shape              Param #   \n",
      "=================================================================\n",
      "lstm_1 (LSTM)                (None, 128)               67072     \n",
      "_________________________________________________________________\n",
      "dropout_1 (Dropout)          (None, 128)               0         \n",
      "_________________________________________________________________\n",
      "dense_1 (Dense)              (None, 1)                 129       \n",
      "_________________________________________________________________\n",
      "activation_1 (Activation)    (None, 1)                 0         \n",
      "=================================================================\n",
      "Total params: 67,201\n",
      "Trainable params: 67,201\n",
      "Non-trainable params: 0\n",
      "_________________________________________________________________\n"
     ]
    }
   ],
   "source": [
    "model.summary()"
   ]
  },
  {
   "cell_type": "code",
   "execution_count": 32,
   "metadata": {},
   "outputs": [
    {
     "name": "stdout",
     "output_type": "stream",
     "text": [
      "WARNING:tensorflow:From /Users/zhouwenbin/anaconda3/envs/py36/lib/python3.6/site-packages/tensorflow/python/ops/math_ops.py:3066: to_int32 (from tensorflow.python.ops.math_ops) is deprecated and will be removed in a future version.\n",
      "Instructions for updating:\n",
      "Use tf.cast instead.\n",
      "Train on 30757 samples, validate on 13183 samples\n",
      "Epoch 1/25\n",
      " - 4s - loss: 0.0464 - val_loss: 0.0498\n",
      "Epoch 2/25\n",
      " - 4s - loss: 0.0198 - val_loss: 0.0413\n",
      "Epoch 3/25\n",
      " - 4s - loss: 0.0184 - val_loss: 0.0409\n",
      "Epoch 4/25\n",
      " - 4s - loss: 0.0172 - val_loss: 0.0364\n",
      "Epoch 5/25\n",
      " - 4s - loss: 0.0159 - val_loss: 0.0320\n",
      "Epoch 6/25\n",
      " - 4s - loss: 0.0145 - val_loss: 0.0277\n",
      "Epoch 7/25\n",
      " - 4s - loss: 0.0138 - val_loss: 0.0269\n",
      "Epoch 8/25\n",
      " - 4s - loss: 0.0132 - val_loss: 0.0253\n",
      "Epoch 9/25\n",
      " - 4s - loss: 0.0125 - val_loss: 0.0241\n",
      "Epoch 10/25\n",
      " - 4s - loss: 0.0121 - val_loss: 0.0244\n",
      "Epoch 11/25\n",
      " - 4s - loss: 0.0118 - val_loss: 0.0224\n",
      "Epoch 12/25\n",
      " - 4s - loss: 0.0111 - val_loss: 0.0195\n",
      "Epoch 13/25\n",
      " - 4s - loss: 0.0106 - val_loss: 0.0190\n",
      "Epoch 14/25\n",
      " - 4s - loss: 0.0105 - val_loss: 0.0188\n",
      "Epoch 15/25\n",
      " - 4s - loss: 0.0100 - val_loss: 0.0190\n",
      "Epoch 16/25\n",
      " - 4s - loss: 0.0100 - val_loss: 0.0179\n",
      "Epoch 17/25\n",
      " - 4s - loss: 0.0096 - val_loss: 0.0184\n",
      "Epoch 18/25\n",
      " - 4s - loss: 0.0094 - val_loss: 0.0182\n",
      "Epoch 19/25\n",
      " - 4s - loss: 0.0092 - val_loss: 0.0176\n",
      "Epoch 20/25\n",
      " - 4s - loss: 0.0090 - val_loss: 0.0205\n",
      "Epoch 21/25\n",
      " - 4s - loss: 0.0087 - val_loss: 0.0163\n",
      "Epoch 22/25\n",
      " - 4s - loss: 0.0085 - val_loss: 0.0148\n",
      "Epoch 23/25\n",
      " - 4s - loss: 0.0082 - val_loss: 0.0163\n",
      "Epoch 24/25\n",
      " - 4s - loss: 0.0083 - val_loss: 0.0165\n",
      "Epoch 25/25\n",
      " - 4s - loss: 0.0084 - val_loss: 0.0173\n"
     ]
    }
   ],
   "source": [
    "# Dataset is trained by using trainX and trainY\n",
    "history = model.fit(trainX, trainY, epochs=25, batch_size=25, validation_data=(testX, testY), verbose=2, shuffle=False)"
   ]
  },
  {
   "cell_type": "code",
   "execution_count": 33,
   "metadata": {},
   "outputs": [
    {
     "data": {
      "image/png": "[encoded data removed]",
      "text/plain": [
       "<Figure size 432x288 with 1 Axes>"
      ]
     },
     "metadata": {
      "needs_background": "light"
     },
     "output_type": "display_data"
    }
   ],
   "source": [
    "\n",
    "# Loss values are calculated for every training epoch and are visualized\n",
    "pyplot.plot(history.history['loss'], label='train')\n",
    "pyplot.plot(history.history['val_loss'], label='test')\n",
    "pyplot.title(\"Test and Train set Loss Value Rate\")\n",
    "pyplot.xlabel('Epochs Number', fontsize=12)\n",
    "pyplot.ylabel('Loss Value', fontsize=12)\n",
    "pyplot.legend()\n",
    "pyplot.show()"
   ]
  },
  {
   "cell_type": "code",
   "execution_count": 34,
   "metadata": {},
   "outputs": [
    {
     "data": {
      "text/plain": [
       "(13183, 1, 2)"
      ]
     },
     "execution_count": 34,
     "metadata": {},
     "output_type": "execute_result"
    }
   ],
   "source": [
    "testX.shape"
   ]
  },
  {
   "cell_type": "code",
   "execution_count": 35,
   "metadata": {},
   "outputs": [],
   "source": [
    "\n",
    "# make a prediction\n",
    "yhat = model.predict(testX)\n",
    "\n",
    "\n",
    "\n"
   ]
  },
  {
   "cell_type": "code",
   "execution_count": 36,
   "metadata": {},
   "outputs": [],
   "source": [
    "testX = testX.reshape((testX.shape[0], testX.shape[2]))"
   ]
  },
  {
   "cell_type": "code",
   "execution_count": 37,
   "metadata": {},
   "outputs": [
    {
     "data": {
      "text/plain": [
       "(13183, 2)"
      ]
     },
     "execution_count": 37,
     "metadata": {},
     "output_type": "execute_result"
    }
   ],
   "source": [
    "testX.shape"
   ]
  },
  {
   "cell_type": "code",
   "execution_count": 38,
   "metadata": {},
   "outputs": [
    {
     "data": {
      "text/plain": [
       "(13183, 1)"
      ]
     },
     "execution_count": 38,
     "metadata": {},
     "output_type": "execute_result"
    }
   ],
   "source": [
    "testX[:, 1:].shape"
   ]
  },
  {
   "cell_type": "code",
   "execution_count": 39,
   "metadata": {},
   "outputs": [
    {
     "data": {
      "text/plain": [
       "(13183, 1)"
      ]
     },
     "execution_count": 39,
     "metadata": {},
     "output_type": "execute_result"
    }
   ],
   "source": [
    "yhat.shape"
   ]
  },
  {
   "cell_type": "code",
   "execution_count": 40,
   "metadata": {},
   "outputs": [],
   "source": [
    "inv_yhat = concatenate((yhat, testX[:, 1:]), axis=1)"
   ]
  },
  {
   "cell_type": "code",
   "execution_count": 41,
   "metadata": {},
   "outputs": [],
   "source": [
    "inv_yhat = scaler.inverse_transform(inv_yhat)"
   ]
  },
  {
   "cell_type": "code",
   "execution_count": 42,
   "metadata": {},
   "outputs": [],
   "source": [
    "inv_yhat = inv_yhat[:,0]"
   ]
  },
  {
   "cell_type": "code",
   "execution_count": 43,
   "metadata": {},
   "outputs": [],
   "source": [
    "testY = testY.reshape((len(testY), 1))"
   ]
  },
  {
   "cell_type": "code",
   "execution_count": 44,
   "metadata": {},
   "outputs": [],
   "source": [
    "inv_y = concatenate((testY, testX[:, 1:]), axis=1)"
   ]
  },
  {
   "cell_type": "code",
   "execution_count": 45,
   "metadata": {},
   "outputs": [],
   "source": [
    "inv_y = scaler.inverse_transform(inv_y)"
   ]
  },
  {
   "cell_type": "code",
   "execution_count": 46,
   "metadata": {},
   "outputs": [],
   "source": [
    "inv_y = inv_y[:,0]"
   ]
  },
  {
   "cell_type": "code",
   "execution_count": 47,
   "metadata": {},
   "outputs": [
    {
     "name": "stdout",
     "output_type": "stream",
     "text": [
      "Test RMSE: 105.758\n"
     ]
    }
   ],
   "source": [
    "# calculate RMSE\n",
    "rmse = sqrt(mean_squared_error(inv_y, inv_yhat))\n",
    "print('Test RMSE: %.3f' % rmse)"
   ]
  },
  {
   "cell_type": "code",
   "execution_count": 48,
   "metadata": {},
   "outputs": [
    {
     "data": {
      "text/plain": [
       "(13183,)"
      ]
     },
     "execution_count": 48,
     "metadata": {},
     "output_type": "execute_result"
    }
   ],
   "source": [
    "inv_y.shape"
   ]
  },
  {
   "cell_type": "code",
   "execution_count": 49,
   "metadata": {},
   "outputs": [
    {
     "data": {
      "text/plain": [
       "(13183,)"
      ]
     },
     "execution_count": 49,
     "metadata": {},
     "output_type": "execute_result"
    }
   ],
   "source": [
    "inv_yhat.shape"
   ]
  },
  {
   "cell_type": "code",
   "execution_count": 50,
   "metadata": {},
   "outputs": [
    {
     "data": {
      "text/plain": [
       "array([6059.6104, 6045.348 , 6039.8223, ..., 6342.129 , 6341.3027,\n",
       "       6338.2305], dtype=float32)"
      ]
     },
     "execution_count": 50,
     "metadata": {},
     "output_type": "execute_result"
    }
   ],
   "source": [
    "inv_yhat"
   ]
  },
  {
   "cell_type": "code",
   "execution_count": 51,
   "metadata": {},
   "outputs": [
    {
     "data": {
      "image/png": "[encoded data removed]",
      "text/plain": [
       "<Figure size 432x288 with 1 Axes>"
      ]
     },
     "metadata": {
      "needs_background": "light"
     },
     "output_type": "display_data"
    }
   ],
   "source": [
    "pyplot.plot(inv_yhat, label='predict')\n",
    "pyplot.plot(inv_y, label='ground truth')\n",
    "pyplot.title(\"predict value vs ground truth on test data\")\n",
    "pyplot.xlabel('time', fontsize=12)\n",
    "pyplot.ylabel('btc price', fontsize=12)\n",
    "pyplot.legend()\n",
    "pyplot.show()"
   ]
  },
  {
   "cell_type": "code",
   "execution_count": 52,
   "metadata": {},
   "outputs": [],
   "source": [
    "# new dataset is prepared\n",
    "# I want to see how does the model performance when applied to new data set\n",
    "df_new=df1[(df1['Date'] >='2020-04-01 00:00:00') & (df1['Date'] <= '2020-04-21 23:59:00')]"
   ]
  },
  {
   "cell_type": "code",
   "execution_count": 53,
   "metadata": {},
   "outputs": [
    {
     "name": "stdout",
     "output_type": "stream",
     "text": [
      "   var1(t-1)  var2(t-1)   var1(t)\n",
      "1   0.206613   0.001012  0.208896\n",
      "2   0.208896   0.000715  0.207808\n",
      "3   0.207808   0.002017  0.207685\n",
      "4   0.207685   0.000021  0.208934\n",
      "5   0.208934   0.000927  0.210903\n"
     ]
    }
   ],
   "source": [
    "\n",
    "df_new = df_new[[\"Close\",\"Volume_(BTC)\"]]\n",
    "values_new = df_new.values\n",
    "values_new = values_new.astype('float32')\n",
    "# print(values_new)\n",
    "\n",
    "# Dataset values are normalized by using MinMax method\n",
    "scaler_new = MinMaxScaler(feature_range=(0,1))\n",
    "scaled_new = scaler_new.fit_transform(values_new)\n",
    "# print(scaled_new)\n",
    "\n",
    "\n",
    "# Normalized values are converted for supervised learning \n",
    "reframed_new = series_to_supervised(scaled_new,1,1)\n",
    "\n",
    "# drop columns we don't want to predict\n",
    "reframed_new.drop(reframed_new.columns[[3]], axis=1, inplace=True)\n",
    "print(reframed_new.head())\n"
   ]
  },
  {
   "cell_type": "code",
   "execution_count": 54,
   "metadata": {},
   "outputs": [],
   "source": [
    "values_new = reframed_new.values"
   ]
  },
  {
   "cell_type": "code",
   "execution_count": 55,
   "metadata": {},
   "outputs": [
    {
     "data": {
      "text/plain": [
       "28301"
      ]
     },
     "execution_count": 55,
     "metadata": {},
     "output_type": "execute_result"
    }
   ],
   "source": [
    "len(values_new)"
   ]
  },
  {
   "cell_type": "code",
   "execution_count": 56,
   "metadata": {},
   "outputs": [],
   "source": [
    "test_new = values_new "
   ]
  },
  {
   "cell_type": "code",
   "execution_count": 57,
   "metadata": {},
   "outputs": [],
   "source": [
    "testX_new, testY_new = test_new[:,:-1], test_new[:,2]\n",
    "testX_new  = testX_new.reshape((testX_new.shape[0],1,testX_new.shape[1]))"
   ]
  },
  {
   "cell_type": "code",
   "execution_count": 58,
   "metadata": {},
   "outputs": [],
   "source": [
    "predict_new=model.predict(testX_new)\n"
   ]
  },
  {
   "cell_type": "code",
   "execution_count": 59,
   "metadata": {},
   "outputs": [
    {
     "data": {
      "text/plain": [
       "0.20889568"
      ]
     },
     "execution_count": 59,
     "metadata": {},
     "output_type": "execute_result"
    }
   ],
   "source": [
    "testY_new[0]"
   ]
  },
  {
   "cell_type": "code",
   "execution_count": 60,
   "metadata": {},
   "outputs": [
    {
     "data": {
      "text/plain": [
       "array([0.25380263], dtype=float32)"
      ]
     },
     "execution_count": 60,
     "metadata": {},
     "output_type": "execute_result"
    }
   ],
   "source": [
    "predict_new[0]"
   ]
  },
  {
   "cell_type": "code",
   "execution_count": 61,
   "metadata": {},
   "outputs": [
    {
     "data": {
      "text/plain": [
       "(28301, 2)"
      ]
     },
     "execution_count": 61,
     "metadata": {},
     "output_type": "execute_result"
    }
   ],
   "source": [
    "testX_new=testX_new.reshape((testX_new.shape[0], testX_new.shape[2]))\n",
    "testX_new.shape"
   ]
  },
  {
   "cell_type": "code",
   "execution_count": 62,
   "metadata": {},
   "outputs": [],
   "source": [
    "yhat_new = concatenate((predict_new, testX_new[:, 1:]), axis=1)"
   ]
  },
  {
   "cell_type": "code",
   "execution_count": 63,
   "metadata": {},
   "outputs": [],
   "source": [
    "yhat_new=scaler.inverse_transform(yhat_new)"
   ]
  },
  {
   "cell_type": "code",
   "execution_count": 64,
   "metadata": {},
   "outputs": [],
   "source": [
    "inv_yhat_new= yhat_new[:,0]"
   ]
  },
  {
   "cell_type": "code",
   "execution_count": 65,
   "metadata": {},
   "outputs": [],
   "source": [
    "testY_new = testY_new.reshape((len(testY_new), 1))"
   ]
  },
  {
   "cell_type": "code",
   "execution_count": 66,
   "metadata": {},
   "outputs": [],
   "source": [
    "inv_y_new = concatenate((testY_new, testX_new[:, 1:]), axis=1)"
   ]
  },
  {
   "cell_type": "code",
   "execution_count": 67,
   "metadata": {},
   "outputs": [],
   "source": [
    "inv_y_new = scaler.inverse_transform(inv_y_new)"
   ]
  },
  {
   "cell_type": "code",
   "execution_count": 68,
   "metadata": {},
   "outputs": [],
   "source": [
    "inv_y_new = inv_y_new[:,0]"
   ]
  },
  {
   "cell_type": "code",
   "execution_count": 69,
   "metadata": {},
   "outputs": [
    {
     "data": {
      "image/png": "[encoded data removed]",
      "text/plain": [
       "<Figure size 432x288 with 1 Axes>"
      ]
     },
     "metadata": {
      "needs_background": "light"
     },
     "output_type": "display_data"
    }
   ],
   "source": [
    "pyplot.plot(inv_yhat_new, label='predict data')\n",
    "pyplot.plot(inv_y_new , label='ground truth')\n",
    "pyplot.title(\"predict value vs ground truth on new test data from April 1 to April 21\")\n",
    "pyplot.xlabel('time', fontsize=12)\n",
    "pyplot.ylabel('btc price', fontsize=12)\n",
    "pyplot.legend()\n",
    "pyplot.show()"
   ]
  },
  {
   "cell_type": "code",
   "execution_count": null,
   "metadata": {},
   "outputs": [],
   "source": []
  }
 ],
 "metadata": {
  "kernelspec": {
   "display_name": "Python 3",
   "language": "python",
   "name": "python3"
  },
  "language_info": {
   "codemirror_mode": {
    "name": "ipython",
    "version": 3
   },
   "file_extension": ".py",
   "mimetype": "text/x-python",
   "name": "python",
   "nbconvert_exporter": "python",
   "pygments_lexer": "ipython3",
   "version": "3.6.10"
  }
 },
 "nbformat": 4,
 "nbformat_minor": 4
}
